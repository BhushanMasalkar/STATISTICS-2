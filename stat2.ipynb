{
 "cells": [
  {
   "cell_type": "code",
   "execution_count": 20,
   "metadata": {},
   "outputs": [],
   "source": [
    "import math"
   ]
  },
  {
   "cell_type": "code",
   "execution_count": 21,
   "metadata": {},
   "outputs": [
    {
     "name": "stdout",
     "output_type": "stream",
     "text": [
      "probability that a person undertaking that test has answered exactly 5 questions wrong is : 3.4264958230778575e-06\n"
     ]
    }
   ],
   "source": [
    "x1=(math.factorial(20)/(math.factorial(5)*math.factorial(15)))*((3/4)**5)*((1/4)**15)\n",
    "print(\"probability that a person undertaking that test has answered exactly 5 questions wrong is : \"+str(x1))"
   ]
  },
  {
   "cell_type": "code",
   "execution_count": 22,
   "metadata": {},
   "outputs": [
    {
     "name": "stdout",
     "output_type": "stream",
     "text": [
      "probability of getting a “D” exactly 5 times is : 0.03\n"
     ]
    }
   ],
   "source": [
    "x2=(math.factorial(50)/(math.factorial(5)*math.factorial(45)))*((1/5)**5)*((4/5)**45)\n",
    "print(\"probability of getting a “D” exactly 5 times is : \"+str(round(x2,2)))"
   ]
  },
  {
   "cell_type": "code",
   "execution_count": 23,
   "metadata": {},
   "outputs": [
    {
     "name": "stdout",
     "output_type": "stream",
     "text": [
      "Probability of both drawn balls to be red is : 0.13\n",
      "Probability of both drawn balls to be black is : 0.03\n",
      "Probability of first drawn ball to be red and second drawn ball to be black is : 0.27\n",
      "Probability of first drawn ball to be black and second drawn ball to be red is : 0.27\n"
     ]
    }
   ],
   "source": [
    "y1=(4/10)*(3/9)\n",
    "print(\"Probability of both drawn balls to be red is : \"+ str(round(y1,2)))\n",
    "y2=(6/10)*(5/9)\n",
    "print(\"Probability of both drawn balls to be black is : \"+ str(round(x2,2)))\n",
    "y3=(4/10)*(6/9)\n",
    "print(\"Probability of first drawn ball to be red and second drawn ball to be black is : \"+ str(round(y3,2)))\n",
    "y4=(6/10)*(4/9)\n",
    "print(\"Probability of first drawn ball to be black and second drawn ball to be red is : \"+ str(round(y4,2)))"
   ]
  },
  {
   "cell_type": "code",
   "execution_count": null,
   "metadata": {},
   "outputs": [],
   "source": []
  }
 ],
 "metadata": {
  "kernelspec": {
   "display_name": "Python 3",
   "language": "python",
   "name": "python3"
  },
  "language_info": {
   "codemirror_mode": {
    "name": "ipython",
    "version": 3
   },
   "file_extension": ".py",
   "mimetype": "text/x-python",
   "name": "python",
   "nbconvert_exporter": "python",
   "pygments_lexer": "ipython3",
   "version": "3.6.5"
  },
  "varInspector": {
   "cols": {
    "lenName": 16,
    "lenType": 16,
    "lenVar": 40
   },
   "kernels_config": {
    "python": {
     "delete_cmd_postfix": "",
     "delete_cmd_prefix": "del ",
     "library": "var_list.py",
     "varRefreshCmd": "print(var_dic_list())"
    },
    "r": {
     "delete_cmd_postfix": ") ",
     "delete_cmd_prefix": "rm(",
     "library": "var_list.r",
     "varRefreshCmd": "cat(var_dic_list()) "
    }
   },
   "types_to_exclude": [
    "module",
    "function",
    "builtin_function_or_method",
    "instance",
    "_Feature"
   ],
   "window_display": false
  }
 },
 "nbformat": 4,
 "nbformat_minor": 2
}
